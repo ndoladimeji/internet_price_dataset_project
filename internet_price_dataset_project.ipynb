{
 "cells": [
  {
   "cell_type": "markdown",
   "id": "69cf25d9",
   "metadata": {},
   "source": [
    "# Dataset Description"
   ]
  },
  {
   "cell_type": "markdown",
   "id": "e74d4c0e",
   "metadata": {},
   "source": [
    "Dataset has three CSV files with data between 2013 - 2021 for 87 countries.\n",
    "\n",
    "average_after_tax_wages.csv - Average after-tax wages in the country\n",
    "average_monthly_internet.csv - Average monthly internet costs in the country\n",
    "GDP_per_capita.csv - GDP per capita of the country\n",
    "\n",
    "The 4th CSV; internet_adoption.csv  is from 2013 to 2020. 2021 is absent. Submitters probably are looking for some estimation for 2021 from the other three CSVs.\n",
    "\n",
    "internet_adoption.csv - Internet adoption as a percent\n",
    "\n",
    "Data Source: Data comes from data.WorldBank.org and Numbeo.com"
   ]
  },
  {
   "cell_type": "code",
   "execution_count": 39,
   "id": "f924dfaf",
   "metadata": {},
   "outputs": [],
   "source": [
    "import pandas as pd\n",
    "import numpy as np"
   ]
  },
  {
   "cell_type": "code",
   "execution_count": 30,
   "id": "bd944993",
   "metadata": {},
   "outputs": [],
   "source": [
    "df_1 = pd.read_csv('internet_adoption.csv')\n",
    "df_2 = pd.read_csv('average_after_tax_wages.csv')\n",
    "df_3 = pd.read_csv('average_monthly_internet.csv')\n",
    "df_4 = pd.read_csv('GDP_per_capita.csv')"
   ]
  },
  {
   "cell_type": "code",
   "execution_count": 31,
   "id": "8b4f835f",
   "metadata": {},
   "outputs": [
    {
     "name": "stdout",
     "output_type": "stream",
     "text": [
      "     Country   2020   2019   2018   2017   2016   2015  2014   2013\n",
      "0    Albania  72.24  68.55  65.40  62.40  59.60  56.90  54.3  51.80\n",
      "1    Algeria  62.90  57.90  49.04  47.69  42.95  38.20  29.5  22.50\n",
      "2  Argentina  85.50  79.90  77.70  74.30  71.00  68.00  64.7  59.90\n",
      "3  Australia  89.60  88.60  87.60  86.55  86.54  84.56  84.0  83.45\n",
      "4    Austria  87.53  87.75  87.48  87.94  84.32  83.94  81.0  80.62\n",
      "     Country     2021     2020     2019     2018     2017     2016     2015  \\\n",
      "0    Albania   487.28   398.64   369.95   366.49   330.31   290.66   303.18   \n",
      "1    Algeria   260.71   274.11   283.83   267.48   318.82   303.40   341.54   \n",
      "2  Argentina   390.07   524.48   604.28   762.75   930.02   899.58  1039.06   \n",
      "3  Australia  4171.74  3495.24  3221.55  3422.99  3232.62  3218.02  3272.23   \n",
      "4    Austria  2467.97  2429.99  2178.91  2308.15  2099.12  2081.52  1941.60   \n",
      "\n",
      "      2014     2013  \n",
      "0   428.00   414.40  \n",
      "1   435.69   370.55  \n",
      "2  1132.70   980.44  \n",
      "3  4002.54  4194.33  \n",
      "4  2544.10  2636.76  \n",
      "     Country   2021   2020   2019   2018   2017   2016   2015   2014   2013\n",
      "0    Albania  20.52  20.20  21.54  22.56  18.77  17.11  15.98  21.79  21.75\n",
      "1    Algeria  40.05  47.51  23.47  26.09  39.27  39.60  38.23  35.51  36.41\n",
      "2  Argentina  23.88  29.12  32.30  46.08  48.05  37.14  42.57  32.47  35.19\n",
      "3  Australia  58.17  50.21  50.94  55.10  54.91  51.51  53.35  66.85  64.26\n",
      "4    Austria  43.05  36.28  35.06  35.35  27.07  23.98  22.55  27.00  26.08\n",
      "     Country       2021       2020       2019       2018       2017  \\\n",
      "0    Albania   6,494.40   5,332.20   5,396.20   5,287.70   4,531.00   \n",
      "1    Algeria   3,765.00   3,306.90   3,989.70   4,142.00   4,109.70   \n",
      "2  Argentina  10,729.20   8,585.70  10,076.40  11,795.20  14,613.00   \n",
      "3  Australia  59,934.10  51,680.30  54,875.30  57,180.80  53,934.30   \n",
      "4    Austria  53,267.90  48,588.70  50,114.40  51,486.60  47,429.20   \n",
      "\n",
      "        2016       2015       2014       2013  Unnamed: 10  Unnamed: 11  \\\n",
      "0   4,124.10   3,952.80   4,578.60   4,413.10          NaN          NaN   \n",
      "1   3,946.50   4,177.90   5,493.10   5,499.60          NaN          NaN   \n",
      "2  12,790.20  13,789.10  12,334.80  13,080.30          NaN          NaN   \n",
      "3  49,881.80  56,707.00  62,511.70  68,156.60          NaN          NaN   \n",
      "4  45,307.60  44,195.80  51,786.40  50,731.10          NaN          NaN   \n",
      "\n",
      "   Unnamed: 12  Unnamed: 13  Unnamed: 14  \n",
      "0          NaN          NaN          NaN  \n",
      "1          NaN          NaN          NaN  \n",
      "2          NaN          NaN          NaN  \n",
      "3          NaN          NaN          NaN  \n",
      "4          NaN          NaN          NaN  \n"
     ]
    }
   ],
   "source": [
    "print(df_1.head())\n",
    "print(df_2.head())\n",
    "print(df_3.head())\n",
    "print(df_4.head())"
   ]
  },
  {
   "cell_type": "code",
   "execution_count": 32,
   "id": "28396fcf",
   "metadata": {},
   "outputs": [
    {
     "data": {
      "text/plain": [
       "Country    0\n",
       "2020       0\n",
       "2019       0\n",
       "2018       0\n",
       "2017       0\n",
       "2016       0\n",
       "2015       0\n",
       "2014       0\n",
       "2013       0\n",
       "dtype: int64"
      ]
     },
     "execution_count": 32,
     "metadata": {},
     "output_type": "execute_result"
    }
   ],
   "source": [
    "df_1.isnull().sum()"
   ]
  },
  {
   "cell_type": "code",
   "execution_count": 33,
   "id": "5832fbde",
   "metadata": {},
   "outputs": [
    {
     "data": {
      "text/plain": [
       "Country    0\n",
       "2021       0\n",
       "2020       0\n",
       "2019       0\n",
       "2018       0\n",
       "2017       0\n",
       "2016       0\n",
       "2015       0\n",
       "2014       0\n",
       "2013       0\n",
       "dtype: int64"
      ]
     },
     "execution_count": 33,
     "metadata": {},
     "output_type": "execute_result"
    }
   ],
   "source": [
    "df_2.isnull().sum()"
   ]
  },
  {
   "cell_type": "code",
   "execution_count": 34,
   "id": "16fd637d",
   "metadata": {},
   "outputs": [
    {
     "data": {
      "text/plain": [
       "Country    0\n",
       "2021       0\n",
       "2020       0\n",
       "2019       0\n",
       "2018       0\n",
       "2017       0\n",
       "2016       0\n",
       "2015       0\n",
       "2014       0\n",
       "2013       0\n",
       "dtype: int64"
      ]
     },
     "execution_count": 34,
     "metadata": {},
     "output_type": "execute_result"
    }
   ],
   "source": [
    "df_3.isnull().sum()"
   ]
  },
  {
   "cell_type": "code",
   "execution_count": 35,
   "id": "44e09f3b",
   "metadata": {},
   "outputs": [
    {
     "data": {
      "text/plain": [
       "Country         0\n",
       "2021            0\n",
       "2020            0\n",
       "2019            0\n",
       "2018            0\n",
       "2017            0\n",
       "2016            0\n",
       "2015            0\n",
       "2014            0\n",
       "2013            0\n",
       "Unnamed: 10    87\n",
       "Unnamed: 11    87\n",
       "Unnamed: 12    87\n",
       "Unnamed: 13    87\n",
       "Unnamed: 14    87\n",
       "dtype: int64"
      ]
     },
     "execution_count": 35,
     "metadata": {},
     "output_type": "execute_result"
    }
   ],
   "source": [
    "df_4.isnull().sum()"
   ]
  },
  {
   "cell_type": "code",
   "execution_count": 36,
   "id": "722f0df5",
   "metadata": {},
   "outputs": [
    {
     "data": {
      "text/plain": [
       "Index(['Country', '2021', '2020', '2019', '2018', '2017', '2016', '2015',\n",
       "       '2014', '2013', 'Unnamed: 10', 'Unnamed: 11', 'Unnamed: 12',\n",
       "       'Unnamed: 13', 'Unnamed: 14'],\n",
       "      dtype='object')"
      ]
     },
     "execution_count": 36,
     "metadata": {},
     "output_type": "execute_result"
    }
   ],
   "source": [
    "df_4.columns"
   ]
  },
  {
   "cell_type": "code",
   "execution_count": 37,
   "id": "ba694245",
   "metadata": {},
   "outputs": [],
   "source": [
    "drop_columns = ['Unnamed: 10', 'Unnamed: 11', 'Unnamed: 12',\n",
    "       'Unnamed: 13', 'Unnamed: 14']\n",
    "df_4 = df_4.drop(drop_columns, axis=1)"
   ]
  },
  {
   "cell_type": "code",
   "execution_count": 38,
   "id": "fad84430",
   "metadata": {},
   "outputs": [
    {
     "name": "stdout",
     "output_type": "stream",
     "text": [
      "<class 'pandas.core.frame.DataFrame'>\n",
      "RangeIndex: 87 entries, 0 to 86\n",
      "Data columns (total 9 columns):\n",
      " #   Column   Non-Null Count  Dtype  \n",
      "---  ------   --------------  -----  \n",
      " 0   Country  87 non-null     object \n",
      " 1   2020     87 non-null     float64\n",
      " 2   2019     87 non-null     float64\n",
      " 3   2018     87 non-null     float64\n",
      " 4   2017     87 non-null     float64\n",
      " 5   2016     87 non-null     float64\n",
      " 6   2015     87 non-null     float64\n",
      " 7   2014     87 non-null     float64\n",
      " 8   2013     87 non-null     float64\n",
      "dtypes: float64(8), object(1)\n",
      "memory usage: 6.2+ KB\n",
      "None\n",
      "<class 'pandas.core.frame.DataFrame'>\n",
      "RangeIndex: 87 entries, 0 to 86\n",
      "Data columns (total 10 columns):\n",
      " #   Column   Non-Null Count  Dtype  \n",
      "---  ------   --------------  -----  \n",
      " 0   Country  87 non-null     object \n",
      " 1   2021     87 non-null     float64\n",
      " 2   2020     87 non-null     float64\n",
      " 3   2019     87 non-null     float64\n",
      " 4   2018     87 non-null     float64\n",
      " 5   2017     87 non-null     float64\n",
      " 6   2016     87 non-null     float64\n",
      " 7   2015     87 non-null     float64\n",
      " 8   2014     87 non-null     float64\n",
      " 9   2013     87 non-null     float64\n",
      "dtypes: float64(9), object(1)\n",
      "memory usage: 6.9+ KB\n",
      "None\n",
      "<class 'pandas.core.frame.DataFrame'>\n",
      "RangeIndex: 87 entries, 0 to 86\n",
      "Data columns (total 10 columns):\n",
      " #   Column   Non-Null Count  Dtype  \n",
      "---  ------   --------------  -----  \n",
      " 0   Country  87 non-null     object \n",
      " 1   2021     87 non-null     float64\n",
      " 2   2020     87 non-null     float64\n",
      " 3   2019     87 non-null     float64\n",
      " 4   2018     87 non-null     float64\n",
      " 5   2017     87 non-null     float64\n",
      " 6   2016     87 non-null     float64\n",
      " 7   2015     87 non-null     float64\n",
      " 8   2014     87 non-null     float64\n",
      " 9   2013     87 non-null     float64\n",
      "dtypes: float64(9), object(1)\n",
      "memory usage: 6.9+ KB\n",
      "None\n",
      "<class 'pandas.core.frame.DataFrame'>\n",
      "RangeIndex: 87 entries, 0 to 86\n",
      "Data columns (total 10 columns):\n",
      " #   Column   Non-Null Count  Dtype \n",
      "---  ------   --------------  ----- \n",
      " 0   Country  87 non-null     object\n",
      " 1   2021     87 non-null     object\n",
      " 2   2020     87 non-null     object\n",
      " 3   2019     87 non-null     object\n",
      " 4   2018     87 non-null     object\n",
      " 5   2017     87 non-null     object\n",
      " 6   2016     87 non-null     object\n",
      " 7   2015     87 non-null     object\n",
      " 8   2014     87 non-null     object\n",
      " 9   2013     87 non-null     object\n",
      "dtypes: object(10)\n",
      "memory usage: 6.9+ KB\n",
      "None\n"
     ]
    }
   ],
   "source": [
    "print(df_1.info())\n",
    "print(df_2.info())\n",
    "print(df_3.info())\n",
    "print(df_4.info())"
   ]
  },
  {
   "cell_type": "code",
   "execution_count": 40,
   "id": "643030fe",
   "metadata": {},
   "outputs": [
    {
     "name": "stdout",
     "output_type": "stream",
     "text": [
      "             2020       2019       2018       2017       2016       2015  \\\n",
      "count   87.000000  87.000000  87.000000  87.000000  87.000000  87.000000   \n",
      "mean    79.490805  76.376437  73.389655  70.669195  68.106552  64.930115   \n",
      "std     17.395551  18.992841  20.186109  20.981216  21.831175  22.835606   \n",
      "min     24.800000  17.070000  15.340000  13.780000  12.390000  11.000000   \n",
      "25%     72.105000  68.755000  64.790000  62.010000  58.205000  53.170000   \n",
      "50%     84.600000  81.100000  79.130000  76.010000  73.300000  69.850000   \n",
      "75%     91.115000  89.520000  87.885000  86.910000  84.385000  83.715000   \n",
      "max    100.000000  99.700000  99.650000  98.260000  98.240000  98.200000   \n",
      "\n",
      "            2014       2013  \n",
      "count  87.000000  87.000000  \n",
      "mean   62.499655  59.883563  \n",
      "std    23.540385  24.177945  \n",
      "min    10.000000   6.630000  \n",
      "25%    48.450000  45.850000  \n",
      "50%    64.710000  62.100000  \n",
      "75%    82.795000  80.310000  \n",
      "max    98.160000  96.550000  \n",
      "              2021         2020         2019         2018         2017  \\\n",
      "count    87.000000    87.000000    87.000000    87.000000    87.000000   \n",
      "mean   1578.715402  1400.959655  1358.948046  1343.145402  1324.202184   \n",
      "std    1406.426012  1224.061436  1133.412642  1118.679599  1111.119190   \n",
      "min     231.260000   191.820000   207.760000   175.520000   155.520000   \n",
      "25%     482.640000   448.055000   472.655000   450.950000   448.260000   \n",
      "50%    1003.850000   907.000000   914.440000   925.680000   896.860000   \n",
      "75%    2873.185000  2445.165000  2340.085000  2294.830000  2335.260000   \n",
      "max    7023.070000  6276.630000  5613.730000  5423.690000  5381.410000   \n",
      "\n",
      "              2016         2015         2014         2013  \n",
      "count    87.000000    87.000000    87.000000    87.000000  \n",
      "mean   1292.636667  1307.076092  1465.377241  1438.346437  \n",
      "std    1067.240749  1092.637544  1216.770207  1245.572505  \n",
      "min     174.550000   183.180000   150.910000   182.520000  \n",
      "25%     436.155000   498.410000   531.310000   515.265000  \n",
      "50%     810.010000   874.310000   985.970000   857.560000  \n",
      "75%    2111.145000  2139.915000  2463.170000  2332.640000  \n",
      "max    5381.960000  5927.930000  6710.390000  5982.820000  \n",
      "             2021       2020        2019       2018       2017       2016  \\\n",
      "count   87.000000  87.000000   87.000000  87.000000  87.000000  87.000000   \n",
      "mean    36.919885  34.538851   35.848046  35.971954  33.497816  31.534023   \n",
      "std     19.992007  18.683299   19.366969  18.934581  17.472907  16.379197   \n",
      "min      5.990000   5.630000    5.030000   4.570000   3.990000   3.380000   \n",
      "25%     21.070000  20.100000   21.145000  21.990000  18.695000  18.035000   \n",
      "50%     36.100000  31.400000   32.780000  34.340000  31.730000  30.010000   \n",
      "75%     47.585000  46.245000   47.065000  45.410000  45.415000  42.145000   \n",
      "max    100.090000  97.420000  102.370000  99.120000  95.260000  88.310000   \n",
      "\n",
      "            2015       2014       2013  \n",
      "count  87.000000  87.000000  87.000000  \n",
      "mean   32.390460  35.799080  36.578966  \n",
      "std    16.850803  17.772335  17.718922  \n",
      "min     3.870000   5.900000   8.790000  \n",
      "25%    20.320000  22.100000  24.425000  \n",
      "50%    29.170000  32.470000  32.850000  \n",
      "75%    42.625000  46.905000  46.580000  \n",
      "max    85.020000  85.020000  92.550000  \n",
      "        Country      2021      2020      2019      2018      2017      2016  \\\n",
      "count        87        87        87        87        87        87        87   \n",
      "unique       87        87        87        87        87        87        87   \n",
      "top     Albania  6,494.40  5,332.20  5,396.20  5,287.70  4,531.00  4,124.10   \n",
      "freq          1         1         1         1         1         1         1   \n",
      "\n",
      "            2015      2014      2013  \n",
      "count         87        87        87  \n",
      "unique        87        87        87  \n",
      "top     3,952.80  4,578.60  4,413.10  \n",
      "freq           1         1         1  \n"
     ]
    }
   ],
   "source": [
    "print(df_1.describe())\n",
    "print(df_2.describe())\n",
    "print(df_3.describe())\n",
    "print(df_4.describe())"
   ]
  },
  {
   "cell_type": "code",
   "execution_count": 42,
   "id": "8f408031",
   "metadata": {},
   "outputs": [],
   "source": [
    "# Remove commas in values in GDP_per_capita table\n",
    "\n",
    "columns = df_4.columns[1:]\n",
    "for column in columns:\n",
    "    df_4[column] = df_4[column].str.replace(',', '')\n",
    "    # convert the columns to float\n",
    "    df_4[column] = df_4[column].astype('float')\n",
    "    "
   ]
  },
  {
   "cell_type": "code",
   "execution_count": null,
   "id": "4ab1f829",
   "metadata": {},
   "outputs": [],
   "source": [
    "# Define a function that gives changes in values  different years \n",
    "\n",
    "def change_"
   ]
  }
 ],
 "metadata": {
  "kernelspec": {
   "display_name": "Python 3 (ipykernel)",
   "language": "python",
   "name": "python3"
  },
  "language_info": {
   "codemirror_mode": {
    "name": "ipython",
    "version": 3
   },
   "file_extension": ".py",
   "mimetype": "text/x-python",
   "name": "python",
   "nbconvert_exporter": "python",
   "pygments_lexer": "ipython3",
   "version": "3.9.12"
  }
 },
 "nbformat": 4,
 "nbformat_minor": 5
}
